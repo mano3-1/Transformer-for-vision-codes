{
 "cells": [
  {
   "cell_type": "code",
   "execution_count": 1,
   "id": "509db68a",
   "metadata": {
    "execution": {
     "iopub.execute_input": "2021-11-25T04:30:17.530274Z",
     "iopub.status.busy": "2021-11-25T04:30:17.528746Z",
     "iopub.status.idle": "2021-11-25T04:30:17.608205Z",
     "shell.execute_reply": "2021-11-25T04:30:17.607618Z",
     "shell.execute_reply.started": "2021-11-25T04:16:06.442069Z"
    },
    "papermill": {
     "duration": 0.093307,
     "end_time": "2021-11-25T04:30:17.608360",
     "exception": false,
     "start_time": "2021-11-25T04:30:17.515053",
     "status": "completed"
    },
    "tags": []
   },
   "outputs": [],
   "source": [
    "import sys\n",
    "sys.path.append(\"../input/timm-master-copy/\")"
   ]
  },
  {
   "cell_type": "code",
   "execution_count": 2,
   "id": "baeda0b7",
   "metadata": {
    "execution": {
     "iopub.execute_input": "2021-11-25T04:30:17.632302Z",
     "iopub.status.busy": "2021-11-25T04:30:17.631754Z",
     "iopub.status.idle": "2021-11-25T04:30:25.260508Z",
     "shell.execute_reply": "2021-11-25T04:30:25.259760Z",
     "shell.execute_reply.started": "2021-11-25T04:16:06.469706Z"
    },
    "papermill": {
     "duration": 7.642084,
     "end_time": "2021-11-25T04:30:25.260666",
     "exception": false,
     "start_time": "2021-11-25T04:30:17.618582",
     "status": "completed"
    },
    "tags": []
   },
   "outputs": [],
   "source": [
    "import torch\n",
    "from torch import nn\n",
    "from torch.nn import functional as F\n",
    "from torch.optim import Adam\n",
    "from torch.utils.data import Dataset, DataLoader,SequentialSampler\n",
    "from torchvision import transforms\n",
    "import timm\n",
    "import numpy as np\n",
    "import pandas as pd\n",
    "import os\n",
    "from PIL import Image\n",
    "import matplotlib.pyplot as plt\n",
    "import cv2\n",
    "import random\n",
    "from sklearn.model_selection import KFold\n",
    "from tqdm.auto import tqdm"
   ]
  },
  {
   "cell_type": "code",
   "execution_count": 3,
   "id": "060042ae",
   "metadata": {
    "execution": {
     "iopub.execute_input": "2021-11-25T04:30:25.329969Z",
     "iopub.status.busy": "2021-11-25T04:30:25.329089Z",
     "iopub.status.idle": "2021-11-25T04:30:25.331980Z",
     "shell.execute_reply": "2021-11-25T04:30:25.331090Z",
     "shell.execute_reply.started": "2021-11-25T04:16:10.301610Z"
    },
    "papermill": {
     "duration": 0.062783,
     "end_time": "2021-11-25T04:30:25.332129",
     "exception": false,
     "start_time": "2021-11-25T04:30:25.269346",
     "status": "completed"
    },
    "tags": []
   },
   "outputs": [],
   "source": [
    "#hyperparameters\n",
    "FOLDS = 7\n",
    "LR = 0.01\n",
    "BATCH_SIZE = 16\n",
    "DEVICE = \"cuda\" if torch.cuda.is_available() else \"cpu\"\n",
    "test_pth = \"../input/petfinder-pawpularity-score/test\""
   ]
  },
  {
   "cell_type": "code",
   "execution_count": 4,
   "id": "731bd99b",
   "metadata": {
    "execution": {
     "iopub.execute_input": "2021-11-25T04:30:25.363215Z",
     "iopub.status.busy": "2021-11-25T04:30:25.362177Z",
     "iopub.status.idle": "2021-11-25T04:30:25.365782Z",
     "shell.execute_reply": "2021-11-25T04:30:25.365340Z",
     "shell.execute_reply.started": "2021-11-25T04:24:44.490129Z"
    },
    "papermill": {
     "duration": 0.025338,
     "end_time": "2021-11-25T04:30:25.365892",
     "exception": false,
     "start_time": "2021-11-25T04:30:25.340554",
     "status": "completed"
    },
    "tags": []
   },
   "outputs": [],
   "source": [
    "class PetDataset(Dataset):\n",
    "    def __init__(self, train_df, size = (384, 384), pth = test_pth, device = DEVICE):\n",
    "        self.train_df = train_df\n",
    "        self.size = size\n",
    "        self.pth = pth\n",
    "        self.device = DEVICE\n",
    "        self.valid_transform =  transforms.Compose([  transforms.Resize(self.size),\n",
    "                                                      transforms.ToTensor(),\n",
    "                                                      transforms.Normalize(mean=[0.485, 0.456, 0.406],\n",
    "                                                                      std=[0.229, 0.224, 0.225]),])\n",
    "    def __len__(self,):\n",
    "        return len(self.train_df)\n",
    "\n",
    "    def __getitem__(self, idx):\n",
    "        filename = self.train_df.iloc[idx][\"Id\"]\n",
    "        img = Image.open(self.pth+\"/\"+filename+\".jpg\")\n",
    "        meta_data = np.asarray(self.train_df.loc[idx][1:13].to_list())\n",
    "        meta_data = torch.tensor(meta_data, dtype = torch.float).to(self.device)\n",
    "        img = self.valid_transform(img).to(self.device)\n",
    "        return img, meta_data\n",
    "    \n",
    "class PetDataset_Embed(Dataset):\n",
    "    def __init__(self, train_df, size = (384, 384), pth = test_pth, device = DEVICE):\n",
    "        self.train_df = train_df\n",
    "        self.pth = pth\n",
    "        self.size = size\n",
    "        self.device = DEVICE\n",
    "        self.valid_transform =  transforms.Compose([  transforms.Resize(self.size),\n",
    "                                                      transforms.ToTensor(),\n",
    "                                                      transforms.Normalize(mean=[0.485, 0.456, 0.406],\n",
    "                                                                      std=[0.229, 0.224, 0.225]),])\n",
    "    def __len__(self,):\n",
    "        return len(self.train_df)\n",
    "\n",
    "    def __getitem__(self, idx):\n",
    "        filename = self.train_df.iloc[idx][\"Id\"]\n",
    "        meta_data = np.asarray(self.train_df.loc[idx][1:13].to_list())\n",
    "        for i in range(len(meta_data)):\n",
    "            meta_data[i] = meta_data[i] + 2*i\n",
    "        img = Image.open(self.pth+\"/\"+filename+\".jpg\")\n",
    "        img = self.valid_transform(img).to(self.device)\n",
    "        meta_data = torch.tensor(meta_data, dtype = torch.long).to(self.device)\n",
    "        return img, meta_data"
   ]
  },
  {
   "cell_type": "code",
   "execution_count": 5,
   "id": "4554a260",
   "metadata": {
    "execution": {
     "iopub.execute_input": "2021-11-25T04:30:25.392887Z",
     "iopub.status.busy": "2021-11-25T04:30:25.390053Z",
     "iopub.status.idle": "2021-11-25T04:30:25.394785Z",
     "shell.execute_reply": "2021-11-25T04:30:25.395184Z",
     "shell.execute_reply.started": "2021-11-25T04:16:58.674981Z"
    },
    "papermill": {
     "duration": 0.021094,
     "end_time": "2021-11-25T04:30:25.395307",
     "exception": false,
     "start_time": "2021-11-25T04:30:25.374213",
     "status": "completed"
    },
    "tags": []
   },
   "outputs": [],
   "source": [
    "class PetScorer(nn.Module):\n",
    "    def __init__(self, backbone = \"swin_large_patch4_window12_384\"):#swin_large_patch4_window12_384#\n",
    "        super().__init__()\n",
    "        \n",
    "        self.backbone = timm.create_model(backbone, pretrained = False)\n",
    "        self.dropout = nn.Dropout(0.1)\n",
    "        self.meta_embeddings = nn.Embedding(24, 256)\n",
    "        self.dense1 = nn.Linear(1000, 256)\n",
    "        self.dense2 = nn.Linear(268,64)\n",
    "        self.dense3 = nn.Linear(64, 1)\n",
    "        self.sigmoid = nn.Sigmoid()\n",
    "        self.relu = nn.ReLU()\n",
    "        \n",
    "        self.apply(self._init_weights)\n",
    "        \n",
    "    def _init_weights(self, module):\n",
    "        if isinstance(module, (nn.Linear, nn.Embedding)):\n",
    "            module.weight.data.normal_(mean=0.0, std=0.02)\n",
    "            if isinstance(module, nn.Linear) and module.bias is not None:\n",
    "                module.bias.data.zero_()\n",
    "        \n",
    "    def forward(self, X, features):\n",
    "        meta_vector = self.meta_embeddings(features)\n",
    "        X = self.backbone(X)\n",
    "        #print(X.size())\n",
    "        X = self.dense1(X)\n",
    "        X = self.relu(X)\n",
    "        X = self.dropout(X)\n",
    "        X = torch.cat([X, features], dim=1)\n",
    "        X = self.dense2(X)\n",
    "        X = self.relu(X)\n",
    "        X = self.dropout(X)\n",
    "        X = self.dense3(X)\n",
    "        return self.sigmoid(X)"
   ]
  },
  {
   "cell_type": "code",
   "execution_count": 6,
   "id": "c85f7996",
   "metadata": {
    "execution": {
     "iopub.execute_input": "2021-11-25T04:30:25.417884Z",
     "iopub.status.busy": "2021-11-25T04:30:25.417302Z",
     "iopub.status.idle": "2021-11-25T04:30:36.376561Z",
     "shell.execute_reply": "2021-11-25T04:30:36.377024Z",
     "shell.execute_reply.started": "2021-11-25T04:17:11.525251Z"
    },
    "papermill": {
     "duration": 10.973189,
     "end_time": "2021-11-25T04:30:36.377193",
     "exception": false,
     "start_time": "2021-11-25T04:30:25.404004",
     "status": "completed"
    },
    "tags": []
   },
   "outputs": [],
   "source": [
    "model = PetScorer().to(DEVICE)\n",
    "df_test = pd.read_csv(\"../input/petfinder-pawpularity-score/test.csv\")"
   ]
  },
  {
   "cell_type": "code",
   "execution_count": 7,
   "id": "59a93230",
   "metadata": {
    "execution": {
     "iopub.execute_input": "2021-11-25T04:30:36.397986Z",
     "iopub.status.busy": "2021-11-25T04:30:36.397418Z",
     "iopub.status.idle": "2021-11-25T04:30:36.401185Z",
     "shell.execute_reply": "2021-11-25T04:30:36.400751Z",
     "shell.execute_reply.started": "2021-11-25T04:17:17.117782Z"
    },
    "papermill": {
     "duration": 0.01564,
     "end_time": "2021-11-25T04:30:36.401290",
     "exception": false,
     "start_time": "2021-11-25T04:30:36.385650",
     "status": "completed"
    },
    "tags": []
   },
   "outputs": [],
   "source": [
    "manoj = True\n",
    "fold_dir = \"../input/rate-my-pet\""
   ]
  },
  {
   "cell_type": "code",
   "execution_count": 8,
   "id": "cd57334d",
   "metadata": {
    "execution": {
     "iopub.execute_input": "2021-11-25T04:30:36.427773Z",
     "iopub.status.busy": "2021-11-25T04:30:36.427205Z",
     "iopub.status.idle": "2021-11-25T04:31:30.587374Z",
     "shell.execute_reply": "2021-11-25T04:31:30.586910Z",
     "shell.execute_reply.started": "2021-11-25T04:24:49.590634Z"
    },
    "papermill": {
     "duration": 54.177718,
     "end_time": "2021-11-25T04:31:30.587515",
     "exception": false,
     "start_time": "2021-11-25T04:30:36.409797",
     "status": "completed"
    },
    "tags": []
   },
   "outputs": [
    {
     "name": "stdout",
     "output_type": "stream",
     "text": [
      "#########################\n",
      "### FOLD 1\n",
      "#########################\n",
      "#########################\n",
      "### FOLD 2\n",
      "#########################\n",
      "#########################\n",
      "### FOLD 3\n",
      "#########################\n",
      "#########################\n",
      "### FOLD 4\n",
      "#########################\n",
      "#########################\n",
      "### FOLD 5\n",
      "#########################\n",
      "#########################\n",
      "### FOLD 6\n",
      "#########################\n",
      "#########################\n",
      "### FOLD 7\n",
      "#########################\n"
     ]
    }
   ],
   "source": [
    "test_dataset = PetDataset_Embed(df_test)\n",
    "test_dataloader = DataLoader(test_dataset,\n",
    "                                     shuffle = False,\n",
    "                                     batch_size = BATCH_SIZE,\n",
    "                                     sampler=SequentialSampler(list(range(test_dataset.__len__())))\n",
    "                                     )\n",
    "\n",
    "for fold_ in range(FOLDS):\n",
    "    print('#'*25)\n",
    "    print('### FOLD',fold_+1)\n",
    "    print('#'*25)\n",
    "    scores = []\n",
    "    if manoj:\n",
    "        model.load_state_dict(torch.load(fold_dir+\"/\"+\"FOLD_{}_best.pth\".format(fold_),map_location=torch.device(DEVICE)))\n",
    "    else:\n",
    "        model.load_state_dict(torch.load(f\"../input/petmodels/FOLD_{fold_}_best.pth\",map_location=torch.device(DEVICE)))\n",
    "    model.eval()\n",
    "    for i,(img,metadata) in enumerate(test_dataloader):\n",
    "        with torch.no_grad():\n",
    "            y_pred = model(img,metadata)*100\n",
    "        scores.extend(y_pred.squeeze(dim=1).cpu().numpy())\n",
    "    df_test[f\"Score_{fold_}\"] = scores\n",
    "idk_list = []\n",
    "for fold_ in range(FOLDS):\n",
    "    idk_list.append(\"Score_\"+str(fold_))\n",
    "score = df_test[idk_list].mean(axis = 1)#, "
   ]
  },
  {
   "cell_type": "code",
   "execution_count": 9,
   "id": "b9ba0ee4",
   "metadata": {
    "execution": {
     "iopub.execute_input": "2021-11-25T04:31:30.620769Z",
     "iopub.status.busy": "2021-11-25T04:31:30.618037Z",
     "iopub.status.idle": "2021-11-25T04:31:30.637360Z",
     "shell.execute_reply": "2021-11-25T04:31:30.636890Z",
     "shell.execute_reply.started": "2021-11-25T04:17:55.302529Z"
    },
    "papermill": {
     "duration": 0.036453,
     "end_time": "2021-11-25T04:31:30.637464",
     "exception": false,
     "start_time": "2021-11-25T04:31:30.601011",
     "status": "completed"
    },
    "tags": []
   },
   "outputs": [
    {
     "data": {
      "text/html": [
       "<div>\n",
       "<style scoped>\n",
       "    .dataframe tbody tr th:only-of-type {\n",
       "        vertical-align: middle;\n",
       "    }\n",
       "\n",
       "    .dataframe tbody tr th {\n",
       "        vertical-align: top;\n",
       "    }\n",
       "\n",
       "    .dataframe thead th {\n",
       "        text-align: right;\n",
       "    }\n",
       "</style>\n",
       "<table border=\"1\" class=\"dataframe\">\n",
       "  <thead>\n",
       "    <tr style=\"text-align: right;\">\n",
       "      <th></th>\n",
       "      <th>Id</th>\n",
       "      <th>Pawpularity</th>\n",
       "    </tr>\n",
       "  </thead>\n",
       "  <tbody>\n",
       "    <tr>\n",
       "      <th>0</th>\n",
       "      <td>4128bae22183829d2b5fea10effdb0c3</td>\n",
       "      <td>39.038449</td>\n",
       "    </tr>\n",
       "    <tr>\n",
       "      <th>1</th>\n",
       "      <td>43a2262d7738e3d420d453815151079e</td>\n",
       "      <td>39.193165</td>\n",
       "    </tr>\n",
       "    <tr>\n",
       "      <th>2</th>\n",
       "      <td>4e429cead1848a298432a0acad014c9d</td>\n",
       "      <td>38.974056</td>\n",
       "    </tr>\n",
       "    <tr>\n",
       "      <th>3</th>\n",
       "      <td>80bc3ccafcc51b66303c2c263aa38486</td>\n",
       "      <td>39.134216</td>\n",
       "    </tr>\n",
       "    <tr>\n",
       "      <th>4</th>\n",
       "      <td>8f49844c382931444e68dffbe20228f4</td>\n",
       "      <td>38.989481</td>\n",
       "    </tr>\n",
       "  </tbody>\n",
       "</table>\n",
       "</div>"
      ],
      "text/plain": [
       "                                 Id  Pawpularity\n",
       "0  4128bae22183829d2b5fea10effdb0c3    39.038449\n",
       "1  43a2262d7738e3d420d453815151079e    39.193165\n",
       "2  4e429cead1848a298432a0acad014c9d    38.974056\n",
       "3  80bc3ccafcc51b66303c2c263aa38486    39.134216\n",
       "4  8f49844c382931444e68dffbe20228f4    38.989481"
      ]
     },
     "execution_count": 9,
     "metadata": {},
     "output_type": "execute_result"
    }
   ],
   "source": [
    "df_test[\"Pawpularity\"] = score\n",
    "df_test = df_test[[\"Id\", \"Pawpularity\"]]\n",
    "df_test.to_csv(\"submission.csv\", index=False)\n",
    "df_test.head()"
   ]
  },
  {
   "cell_type": "code",
   "execution_count": 10,
   "id": "448c5d15",
   "metadata": {
    "execution": {
     "iopub.execute_input": "2021-11-25T04:31:30.663153Z",
     "iopub.status.busy": "2021-11-25T04:31:30.662546Z",
     "iopub.status.idle": "2021-11-25T04:31:30.665671Z",
     "shell.execute_reply": "2021-11-25T04:31:30.665248Z",
     "shell.execute_reply.started": "2021-10-30T06:56:35.975768Z"
    },
    "papermill": {
     "duration": 0.016785,
     "end_time": "2021-11-25T04:31:30.665778",
     "exception": false,
     "start_time": "2021-11-25T04:31:30.648993",
     "status": "completed"
    },
    "tags": []
   },
   "outputs": [],
   "source": [
    "# from sklearn.metrics import mean_squared_error\n",
    "# mean_squared_error(list(df_test[\"Pawpularity\"]),score)"
   ]
  },
  {
   "cell_type": "code",
   "execution_count": null,
   "id": "750c9038",
   "metadata": {
    "papermill": {
     "duration": 0.010755,
     "end_time": "2021-11-25T04:31:30.687268",
     "exception": false,
     "start_time": "2021-11-25T04:31:30.676513",
     "status": "completed"
    },
    "tags": []
   },
   "outputs": [],
   "source": []
  }
 ],
 "metadata": {
  "kernelspec": {
   "display_name": "Python 3",
   "language": "python",
   "name": "python3"
  },
  "language_info": {
   "codemirror_mode": {
    "name": "ipython",
    "version": 3
   },
   "file_extension": ".py",
   "mimetype": "text/x-python",
   "name": "python",
   "nbconvert_exporter": "python",
   "pygments_lexer": "ipython3",
   "version": "3.7.10"
  },
  "papermill": {
   "default_parameters": {},
   "duration": 81.65475,
   "end_time": "2021-11-25T04:31:31.909318",
   "environment_variables": {},
   "exception": null,
   "input_path": "__notebook__.ipynb",
   "output_path": "__notebook__.ipynb",
   "parameters": {},
   "start_time": "2021-11-25T04:30:10.254568",
   "version": "2.3.3"
  }
 },
 "nbformat": 4,
 "nbformat_minor": 5
}
